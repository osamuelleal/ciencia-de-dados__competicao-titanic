{
  "nbformat": 4,
  "nbformat_minor": 0,
  "metadata": {
    "colab": {
      "name": "titanic-kaggle",
      "provenance": []
    },
    "kernelspec": {
      "name": "python3",
      "display_name": "Python 3"
    },
    "language_info": {
      "name": "python"
    }
  },
  "cells": [
    {
      "cell_type": "code",
      "metadata": {
        "id": "mU2SRnGNsIvt"
      },
      "source": [
        "# Instalando a lib pycaret\n",
        "\n",
        "!pip install pycaret"
      ],
      "execution_count": null,
      "outputs": []
    },
    {
      "cell_type": "code",
      "metadata": {
        "id": "YONaKWshtLvs"
      },
      "source": [
        "# Instalando a lib sweetviz para uma eda rápida\n",
        "\n",
        "!pip install sweetviz"
      ],
      "execution_count": null,
      "outputs": []
    },
    {
      "cell_type": "code",
      "metadata": {
        "id": "qFUeaAdmsl1h"
      },
      "source": [
        "# Importando as libs necessárias\n",
        "\n",
        "from pycaret.classification import *\n",
        "import pandas as pd\n",
        "import sweetviz"
      ],
      "execution_count": null,
      "outputs": []
    },
    {
      "cell_type": "code",
      "metadata": {
        "id": "LScpEVwdteYH"
      },
      "source": [
        "# Importando o conjunto de dados de treino\n",
        "\n",
        "train = pd.read_csv('/content/drive/MyDrive/train_titanic.csv')\n",
        "train.head()"
      ],
      "execution_count": null,
      "outputs": []
    },
    {
      "cell_type": "code",
      "metadata": {
        "id": "gCgy_k9itt0W"
      },
      "source": [
        "# Importando o conjunto de dados de teste\n",
        "\n",
        "test = pd.read_csv('/content/drive/MyDrive/test_titanic.csv')\n",
        "test.head()"
      ],
      "execution_count": null,
      "outputs": []
    },
    {
      "cell_type": "code",
      "metadata": {
        "id": "PO4mkB8rt5OC"
      },
      "source": [
        "# Criando o report html da EDA pelo sweetviz\n",
        "\n",
        "my_report = sweetviz.analyze(train)\n",
        "my_report.show_html()"
      ],
      "execution_count": null,
      "outputs": []
    },
    {
      "cell_type": "code",
      "metadata": {
        "id": "kd2WwhGSup7g"
      },
      "source": [
        "# Iniciando o pycaret\n",
        "\n",
        "pycaret.classification.setup(data = train, target = 'Survived')"
      ],
      "execution_count": null,
      "outputs": []
    },
    {
      "cell_type": "code",
      "metadata": {
        "id": "G2cViHdpvdPS"
      },
      "source": [
        "# Comparando os modelos de machine learning\n",
        "\n",
        "pycaret.classification.compare_models()"
      ],
      "execution_count": null,
      "outputs": []
    },
    {
      "cell_type": "code",
      "metadata": {
        "id": "upZzLpBPvtF0"
      },
      "source": [
        "# Escolhi o GBC para conseguir visualizar uma métrica específica do modelo no plot\n",
        "\n",
        "gbc = pycaret.classification.create_model('gbc')"
      ],
      "execution_count": null,
      "outputs": []
    },
    {
      "cell_type": "code",
      "metadata": {
        "id": "0f1FPsXdwcBj"
      },
      "source": [
        "# Tunando o modelo\n",
        "\n",
        "tuned_gbc = tune_model(gbc)"
      ],
      "execution_count": null,
      "outputs": []
    },
    {
      "cell_type": "code",
      "metadata": {
        "id": "qNAnXvxuwuyW"
      },
      "source": [
        "# Fazendo o emseble de modelos usando o método Bagging com o modelo tunado\n",
        "\n",
        "bagget_gbc = ensemble_model(tuned_gbc, method = 'Bagging')"
      ],
      "execution_count": null,
      "outputs": []
    },
    {
      "cell_type": "code",
      "metadata": {
        "id": "Tzh000zKlz6G"
      },
      "source": [
        "# Fazendo o emseble de modelos usando o método Bagging sem o modelo tunado\n",
        "\n",
        "bagged_gbc = ensemble_model(gbc, method = 'Bagging')"
      ],
      "execution_count": null,
      "outputs": []
    },
    {
      "cell_type": "code",
      "metadata": {
        "id": "WPwp4XZfmue3"
      },
      "source": [
        "# Avaliando o resultado do modelo\n",
        "\n",
        "evaluate_model(bagged_gbc)"
      ],
      "execution_count": null,
      "outputs": []
    },
    {
      "cell_type": "code",
      "metadata": {
        "id": "a5nET5i9nKFH"
      },
      "source": [
        "# Vendo o resultado do modelo resumido nos dados de treino\n",
        "\n",
        "pred_holdout = predict_model(bagged_gbc)"
      ],
      "execution_count": null,
      "outputs": []
    },
    {
      "cell_type": "code",
      "metadata": {
        "id": "hf5IjW2gouWT"
      },
      "source": [
        "# Verificando o resultado no modelo nos dados de teste\n",
        "\n",
        "pred_unseen = predict_model(bagged_gbc, data = test)"
      ],
      "execution_count": null,
      "outputs": []
    },
    {
      "cell_type": "code",
      "metadata": {
        "id": "XnYjSERZpF5y"
      },
      "source": [
        "pred_unseen"
      ],
      "execution_count": null,
      "outputs": []
    },
    {
      "cell_type": "code",
      "metadata": {
        "id": "RGLwMAzRpJos"
      },
      "source": [
        "# Excluindo as colunas que não serão necessárias para a submissão da competição\n",
        "\n",
        "submission = pred_unseen.drop(['Pclass','Name','Sex','Age','SibSp','Parch','Ticket','Fare','Cabin','Embarked','Score'], axis = 1)"
      ],
      "execution_count": null,
      "outputs": []
    },
    {
      "cell_type": "code",
      "metadata": {
        "id": "pU_lIfBnqeAE"
      },
      "source": [
        "# Renomeando a coluna Label para Survived\n",
        "\n",
        "submission = submission.rename(columns = {'Label':'Survived'})"
      ],
      "execution_count": null,
      "outputs": []
    },
    {
      "cell_type": "code",
      "metadata": {
        "id": "VnmvyQy9rGCr"
      },
      "source": [
        "# Visualizando a estrutura do dataframe\n",
        "\n",
        "submission.head(10)"
      ],
      "execution_count": null,
      "outputs": []
    },
    {
      "cell_type": "code",
      "metadata": {
        "id": "Qnvv5_norUTD"
      },
      "source": [
        "# Exportando em csv\n",
        "\n",
        "submission.to_csv('titanic_submission', index=False)"
      ],
      "execution_count": null,
      "outputs": []
    }
  ]
}